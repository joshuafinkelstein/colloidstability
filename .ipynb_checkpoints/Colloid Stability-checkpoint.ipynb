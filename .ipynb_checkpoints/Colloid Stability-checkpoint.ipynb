{
 "cells": [
  {
   "cell_type": "markdown",
   "metadata": {},
   "source": [
    "# Control of Aggregate Equilibrium Size\n",
    "\n",
    "Reference https://ac-els-cdn-com.ezproxy.neu.edu/S092777571300558X/1-s2.0-S092777571300558X-main.pdf?_tid=a68d75de-2d4b-4e84-858f-c3866c0dcf14&acdnat=1542312142_f822cc2a074bc4ea24c4df9fcae90672 for the initial part of the project."
   ]
  },
  {
   "cell_type": "code",
   "execution_count": 1,
   "metadata": {},
   "outputs": [],
   "source": [
    "%matplotlib inline\n",
    "import matplotlib.pyplot as plt\n",
    "import numpy as np\n",
    "import scipy.integrate as integrate\n",
    "import math"
   ]
  },
  {
   "cell_type": "code",
   "execution_count": 96,
   "metadata": {},
   "outputs": [],
   "source": [
    "#set up the bins\n",
    "L = np.linspace(0,20,101)\n",
    "size_step = np.diff(L)"
   ]
  },
  {
   "cell_type": "code",
   "execution_count": 53,
   "metadata": {},
   "outputs": [],
   "source": [
    "#the initial distribution is arbitrary\n",
    "def initial(L):\n",
    "    density = 0.4*np.exp(-(L-5)**2/5)\n",
    "    return density"
   ]
  },
  {
   "cell_type": "code",
   "execution_count": 54,
   "metadata": {},
   "outputs": [
    {
     "data": {
      "image/png": "[encoded data removed]",
      "text/plain": [
       "<Figure size 432x288 with 1 Axes>"
      ]
     },
     "metadata": {},
     "output_type": "display_data"
    },
    {
     "data": {
      "text/plain": [
       "(1.5840900787422294, 2.771846964117317e-10)"
      ]
     },
     "execution_count": 54,
     "metadata": {},
     "output_type": "execute_result"
    }
   ],
   "source": [
    "plt.plot(L, initial(L))\n",
    "plt.show()\n",
    "\n",
    "#integral should be close to 1\n",
    "integrate.quad(initial, 0, 20)"
   ]
  },
  {
   "cell_type": "code",
   "execution_count": 55,
   "metadata": {},
   "outputs": [
    {
     "data": {
      "text/plain": [
       "5.2"
      ]
     },
     "execution_count": 55,
     "metadata": {},
     "output_type": "execute_result"
    }
   ],
   "source": [
    "space_under_curve = integrate.quad(initial, 0, 20)[0]\n",
    "for l in L:\n",
    "    if (integrate.quad(initial, 0, l)[0] >= 0.5*space_under_curve):\n",
    "        avg_size = l\n",
    "        break\n",
    "avg_size\n",
    "#average size in um"
   ]
  },
  {
   "cell_type": "markdown",
   "metadata": {},
   "source": [
    "**Assume there is no growth or brakage and only aggregation for now. (Eq. 2)**\n",
    "\n",
    "$$\\frac{\\Delta n}{\\Delta t} = B - D$$\n",
    "\n",
    "**To calculate the aggregation frequency, use the following equation. (Eq. 3)**\n",
    "\n",
    "$$\\beta_{j,k} = \\frac{2k_BT}{3{\\mu}W_{j,k}}(r_j+r_k)(\\frac{1}{r_j}+\\frac{1}{r_k}) $$\n",
    "\n",
    "Where the stability ratio $$ W_{j,k} = (r_j+r_k)\\int_{r_j+r_k}^{\\infty} \\frac{exp(V_T/(k_bT))}{R^2} dR $$\n",
    "\n",
    "$$ V_T = V_A + V_E $$\n",
    "\n",
    "$$ V_A = -\\frac{A}{6}(\\frac{2r_1r_2}{R^2-(r_1+r_2)^2}+\\frac{2r_1r_2}{R^2(r_1-r_2)^2}+\\frac{R^2-(r_1+r_2)^2}{R^2-(r_1-r_2)^2}) $$\n",
    "\n",
    "$$ V_E = 64\\pi\\epsilon_r\\epsilon_0(\\frac{k_BT}{z_ce})^2 tanh(\\frac{z_ce\\psi_{01}}{4k_BT})tanh(\\frac{z_ce\\psi_{02}}{4k_BT})(\\frac{r_1r_2}{r_1+r_2})exp(-\\kappa(R-r_1-r_2)) $$\n",
    "\n",
    "The value of the debye-huckel parameter comes from Russel, W.B., Saville, D.A. and Schowalter, W. R. Colloidal Dispersions, Cambridge University Press, 1989\n",
    "\n",
    "\n",
    "$$ \\kappa = \\sqrt{\\frac{2000e^2N I}{\\epsilon_r \\epsilon_0 k T}} $$\n",
    "\n",
    "Where the ionic strength is the weighted sum of valence of the ions in solution. $$ I = \\frac{1}{2}\\sum_j m_j z_j^2 $$\n",
    "\n",
    "But this should simplify because we only have one ion in solution and we can solve for the molality and we already have the valence of the counterion."
   ]
  },
  {
   "cell_type": "code",
   "execution_count": 56,
   "metadata": {},
   "outputs": [],
   "source": [
    "#some constants, from paper\n",
    "kB = 1.3806 * 10**(-23) #m^2 * kg / (s^2 * K)\n",
    "A = 3.08 * 10**(-20) #J\n",
    "psi = 59./1000 #mV #surface potential (UNITS???)\n",
    "T = 300. #K, im assuming this cuz its not given\n",
    "mu = 0.00086 #N * s / m^2, from engineering toolbox cuz its not given\n",
    "er = 80.4 #dielectric constant of solvent (water)\n",
    "e0 = 8.85*10**-12 #dielectric constant of vacuum (F/m) eng'g toolbox\n",
    "zc = 1. #valence of potassium counterion\n",
    "e = 1.6021766*10**-19 # elementary charge (C)\n",
    "N = 6.022*10**23 #Avogadros Number\n",
    "rho = 1.*10**3 #kg/m^3 "
   ]
  },
  {
   "cell_type": "code",
   "execution_count": 57,
   "metadata": {},
   "outputs": [
    {
     "name": "stdout",
     "output_type": "stream",
     "text": [
      "The value for the Debye-Huckel Parameter is 8.108013489212379e-10\n"
     ]
    }
   ],
   "source": [
    "#solve for the Debye-Huckel Parameter\n",
    "#it depends on the molality of salt ions in solution\n",
    "\n",
    "#ONLY VALID AT 0.29 M SALT\n",
    "\n",
    "M = 0.29 #mol/L\n",
    "m = M*1000/(rho)\n",
    "I = (m*zc**2)/2\n",
    "#kappa = (8*(math.pi**2)*N*rho*I/(1000*er*kB*T))**.5 old value, gave value on order of 10^20\n",
    "kappa = (er * e0 * kB * T / (2 * 1000 * N *e**2 * I))**0.5\n",
    "print(\"The value for the Debye-Huckel Parameter is {}\".format(kappa))\n",
    "#debye huckel only value for low concentration electrolytes, which this isnt"
   ]
  },
  {
   "cell_type": "code",
   "execution_count": 58,
   "metadata": {},
   "outputs": [],
   "source": [
    "#attractive potential\n",
    "def Va(R, r1, r2):\n",
    "    Va =-A/6*(2*r1*r2/(R**2-(r1+r2)**2)+2*r1*r2/(R**2*(r1-r2)**2)+(R**2-(r1 + r2)**2)/(R**2-(r1-r2)**2))\n",
    "    return Va\n",
    "\n",
    "#repulsive potential\n",
    "def Ve(R, r1,r2):\n",
    "    Ve=64*math.pi*er*e0*(kB*T/(zc*e))**2*(np.tanh(zc*e*psi/(4. * kB * T)))**2*r1*r2/(r1+r2)*np.exp(-kappa*(R-r1-r2))\n",
    "    return Ve\n",
    "\n",
    "#total potential\n",
    "def VT(R, r1,r2):\n",
    "    VT = Ve(R) +Va(R)\n",
    "    return VT\n",
    "\n",
    "#integrand to solve for the stability ratio\n",
    "def W(R, r1,r2):\n",
    "    W = (r1+r2) * np.exp(VT(R)/(kB*T))/(R**2)\n",
    "    return W"
   ]
  },
  {
   "cell_type": "markdown",
   "metadata": {},
   "source": [
    "# Brownian Type Aggregation Kernel"
   ]
  },
  {
   "cell_type": "code",
   "execution_count": 59,
   "metadata": {},
   "outputs": [],
   "source": [
    "#aggregation frequency / growth kernel\n",
    "#takes in r1 and r2 and outputs aggregation frequency\n",
    "def Beta(r1, r2):\n",
    "    #eqn 3 (Brownian aggregation), 4 (aggregation efficiency),\n",
    "    # and 5 and 6 (interaction potential components)\n",
    "    # the equations use both j,k and 1,2 should we just use one consistently?\n",
    "    r1=r1 /10**6\n",
    "    r2=r2 / 10**6\n",
    "    if(r1==0):\n",
    "        r1 = 0.00001\n",
    "    if(r2==0):\n",
    "        r2 = 0.00001\n",
    "    \n",
    "    #center-to-center distance when the particles are in contact\n",
    "    R0 = r1+r2\n",
    "    \n",
    "    #solve for the stability ratio\n",
    "    #we have to integrate over the range in possible center-to-center distances\n",
    "    \n",
    "    #assume all collisons result in aggregation\n",
    "    #Wjk = integrate.quad(W, R0, 1000.)\n",
    "    Wjk = 0.00000000001\n",
    "    \n",
    "    # in eqn theres two tanh for the two colliding paticles but if theyre the same they have the same surface potential\n",
    "    #solve for the aggregation frequency\n",
    "    #calculate the combinations of two particles that can lead to an aggregate of size R0\n",
    " \n",
    "    beta = 2 * kB * T / (3 * mu * Wjk) * (r1 + r2) * (1/r1 + 1/r2)\n",
    "    return beta"
   ]
  },
  {
   "cell_type": "code",
   "execution_count": 60,
   "metadata": {},
   "outputs": [
    {
     "data": {
      "text/plain": [
       "1.411295681063123e-06"
      ]
     },
     "execution_count": 60,
     "metadata": {},
     "output_type": "execute_result"
    }
   ],
   "source": [
    "Beta(0.7,1.3)"
   ]
  },
  {
   "cell_type": "markdown",
   "metadata": {},
   "source": [
    "# Birthrate and Deathrate"
   ]
  },
  {
   "cell_type": "code",
   "execution_count": 61,
   "metadata": {},
   "outputs": [
    {
     "name": "stdout",
     "output_type": "stream",
     "text": [
      "(101, 101)\n"
     ]
    }
   ],
   "source": [
    "#all possible combinations\n",
    "beta_matrix = np.zeros((len(L),len(L)))\n",
    "for indexi, i in enumerate(L):\n",
    "    for indexj, j in enumerate(L):\n",
    "        if(j < i):\n",
    "            beta_matrix[indexi,indexj] = Beta(i,j)\n",
    "        else:\n",
    "            break\n",
    "print(beta_matrix.shape)\n",
    "#beta_matrix"
   ]
  },
  {
   "cell_type": "code",
   "execution_count": 105,
   "metadata": {},
   "outputs": [],
   "source": [
    "#birth rate\n",
    "n = initial(L)\n",
    "\n",
    "#takes in a particle size and a distribution\n",
    "def birthrate(particle_size, n):\n",
    "    for i in enumerate(L):\n",
    "        size = i[1]\n",
    "        if (size==particle_size):\n",
    "            indexL = i[0]\n",
    "            break\n",
    "            \n",
    "    subL = L[1:indexL:1]\n",
    "    \n",
    "    birth = 0\n",
    "    indexi = 0\n",
    "    volume \n",
    "    for i in subL:\n",
    "        indexj = 0\n",
    "        for j in subL:\n",
    "            if (i**3+j**3 <= L[indexL]**3 and i**3+j**3 > L[indexL-1]**3):\n",
    "                birth += Beta(i,j)*n[indexi]*n[indexj]\n",
    "            indexj += 1\n",
    "        indexi += 1\n",
    "        \n",
    "    return birth"
   ]
  },
  {
   "cell_type": "code",
   "execution_count": 109,
   "metadata": {},
   "outputs": [
    {
     "name": "stdout",
     "output_type": "stream",
     "text": [
      "4.722517461012547e-07\n"
     ]
    }
   ],
   "source": [
    "print(birthrate(4, n))"
   ]
  },
  {
   "cell_type": "code",
   "execution_count": 110,
   "metadata": {},
   "outputs": [],
   "source": [
    "#death rate\n",
    "def deathrate(particle_size, n):\n",
    "    for i in enumerate(L):\n",
    "        size = i[1]\n",
    "        if (size==particle_size):\n",
    "            indexj = i[0]\n",
    "            break\n",
    "            \n",
    "    j = particle_size\n",
    "    death = 0\n",
    "    indexi = 0\n",
    "    for i in L:\n",
    "        death += Beta(i,j)*n[indexi]*n[indexj]\n",
    "        indexi += 1\n",
    "        \n",
    "    return death"
   ]
  },
  {
   "cell_type": "code",
   "execution_count": 111,
   "metadata": {},
   "outputs": [
    {
     "name": "stdout",
     "output_type": "stream",
     "text": [
      "3.483900969919321e-06\n"
     ]
    }
   ],
   "source": [
    "print(deathrate(4, n))"
   ]
  },
  {
   "cell_type": "markdown",
   "metadata": {},
   "source": [
    "# Calculate the Rate of Change"
   ]
  },
  {
   "cell_type": "code",
   "execution_count": 130,
   "metadata": {},
   "outputs": [],
   "source": [
    "#solve different equation for each bin in L\n",
    "#ref in class example for first order finite difference\n",
    "def rates_of_change(n, t, L, end_time=0):\n",
    "    size_step = np.diff(L)\n",
    "    \n",
    "    #rates of transition\n",
    "    rates_of_transition = np.zeros_like(n)\n",
    "    for i in range(len(rates_of_transition)):\n",
    "        rates_of_transition[i] = n[i] * (birthrate(L[i],n) - deathrate(L[i],n))/size_step[0]\n",
    "        \n",
    "    #conservation of particle mass, in this case volume with constant density\n",
    "        \n",
    "    #monitor ode solver\n",
    "    print(\"running at time {}/{} seconds...\".format(t,end_time))\n",
    "    \n",
    "    return rates_of_transition"
   ]
  },
  {
   "cell_type": "code",
   "execution_count": 131,
   "metadata": {},
   "outputs": [
    {
     "data": {
      "image/png": "[encoded data removed]",
      "text/plain": [
       "<Figure size 432x288 with 1 Axes>"
      ]
     },
     "metadata": {},
     "output_type": "display_data"
    },
    {
     "name": "stdout",
     "output_type": "stream",
     "text": [
      "running at time 0/0 seconds...\n"
     ]
    },
    {
     "data": {
      "image/png": "[encoded data removed]",
      "text/plain": [
       "<Figure size 432x288 with 1 Axes>"
      ]
     },
     "metadata": {},
     "output_type": "display_data"
    }
   ],
   "source": [
    "#at time zero what does it look like?\n",
    "n = initial(L)\n",
    "t= 0\n",
    "plt.plot(L, initial(L))\n",
    "plt.ylabel('Number density')\n",
    "plt.xlabel('Size of particle L ($\\mu$m)')\n",
    "plt.show()\n",
    "\n",
    "plt.plot(L,rates_of_change(n, t, L))\n",
    "plt.ylabel('Rate of change of population density')\n",
    "plt.xlabel('Size of particle L ($\\mu$m)')\n",
    "plt.show()"
   ]
  },
  {
   "cell_type": "markdown",
   "metadata": {},
   "source": [
    "# Solve Set of Diff Eqs"
   ]
  },
  {
   "cell_type": "code",
   "execution_count": 132,
   "metadata": {},
   "outputs": [
    {
     "data": {
      "text/plain": [
       "array([   0, 1000])"
      ]
     },
     "execution_count": 132,
     "metadata": {},
     "output_type": "execute_result"
    }
   ],
   "source": [
    "times = np.arange(0,2000,1000)\n",
    "times"
   ]
  },
  {
   "cell_type": "code",
   "execution_count": 133,
   "metadata": {},
   "outputs": [
    {
     "name": "stdout",
     "output_type": "stream",
     "text": [
      "running at time 0.0/1000 seconds...\n",
      "running at time 0.12206940828542635/1000 seconds...\n",
      "running at time 0.12206940828542635/1000 seconds...\n",
      "running at time 0.2441388165708527/1000 seconds...\n",
      "running at time 0.2441388165708527/1000 seconds...\n",
      "running at time 200.31725620274287/1000 seconds...\n",
      "running at time 200.31725620274287/1000 seconds...\n",
      "running at time 400.3903735889149/1000 seconds...\n",
      "running at time 400.3903735889149/1000 seconds...\n",
      "running at time 600.4634909750869/1000 seconds...\n",
      "running at time 600.4634909750869/1000 seconds...\n",
      "running at time 1228.0125706848178/1000 seconds...\n",
      "running at time 1228.0125706848178/1000 seconds...\n",
      "28.1 s ± 0 ns per loop (mean ± std. dev. of 1 run, 1 loop each)\n"
     ]
    }
   ],
   "source": [
    "%%timeit -n1 -r1\n",
    "results = integrate.odeint(rates_of_change, initial(L), times, args=(L,times[-1]), max)"
   ]
  },
  {
   "cell_type": "code",
   "execution_count": 134,
   "metadata": {},
   "outputs": [],
   "source": [
    "integrate.odeint?"
   ]
  },
  {
   "cell_type": "code",
   "execution_count": 122,
   "metadata": {},
   "outputs": [
    {
     "data": {
      "image/png": "[encoded data removed]",
      "text/plain": [
       "<Figure size 432x288 with 1 Axes>"
      ]
     },
     "metadata": {},
     "output_type": "display_data"
    },
    {
     "data": {
      "image/png": "[encoded data removed]",
      "text/plain": [
       "<Figure size 432x288 with 1 Axes>"
      ]
     },
     "metadata": {},
     "output_type": "display_data"
    },
    {
     "data": {
      "image/png": "[encoded data removed]",
      "text/plain": [
       "<Figure size 432x288 with 1 Axes>"
      ]
     },
     "metadata": {},
     "output_type": "display_data"
    }
   ],
   "source": [
    "size_step = np.diff(L)\n",
    "for time, result in zip(times, results):\n",
    "    plt.plot(L, initial(L), 'r:')\n",
    "    plt.bar(L, result, width=size_step[0])\n",
    "    plt.title(\"{} seconds\".format(time))\n",
    "    plt.ylabel('Number density')\n",
    "    plt.xlabel('Size of particle L ($\\mu$m)')\n",
    "    plt.show()"
   ]
  },
  {
   "cell_type": "code",
   "execution_count": null,
   "metadata": {},
   "outputs": [],
   "source": []
  }
 ],
 "metadata": {
  "kernelspec": {
   "display_name": "Python 3",
   "language": "python",
   "name": "python3"
  },
  "language_info": {
   "codemirror_mode": {
    "name": "ipython",
    "version": 3
   },
   "file_extension": ".py",
   "mimetype": "text/x-python",
   "name": "python",
   "nbconvert_exporter": "python",
   "pygments_lexer": "ipython3",
   "version": "3.6.5"
  }
 },
 "nbformat": 4,
 "nbformat_minor": 2
}
