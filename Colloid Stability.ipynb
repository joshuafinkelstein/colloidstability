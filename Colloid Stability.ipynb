{
 "cells": [
  {
   "cell_type": "markdown",
   "metadata": {},
   "source": [
    "# Control of Aggregate Equilibrium Size\n",
    "\n",
    "Reference https://ac-els-cdn-com.ezproxy.neu.edu/S092777571300558X/1-s2.0-S092777571300558X-main.pdf?_tid=a68d75de-2d4b-4e84-858f-c3866c0dcf14&acdnat=1542312142_f822cc2a074bc4ea24c4df9fcae90672 for the initial part of the project."
   ]
  },
  {
   "cell_type": "code",
   "execution_count": 1,
   "metadata": {},
   "outputs": [],
   "source": [
    "%matplotlib inline\n",
    "import matplotlib.pyplot as plt\n",
    "import numpy as np\n",
    "import scipy.integrate as integrate\n",
    "import math"
   ]
  },
  {
   "cell_type": "code",
   "execution_count": 2,
   "metadata": {},
   "outputs": [],
   "source": [
    "L = np.linspace(0,5,101)\n",
    "size_step = np.diff(L)"
   ]
  },
  {
   "cell_type": "code",
   "execution_count": 3,
   "metadata": {},
   "outputs": [],
   "source": [
    "def initial(L):\n",
    "    #eqn taken from reference 39, eqn 20, v0 assumed to be 1 m^-3, like in the paper\n",
    "    density = np.exp(-L)\n",
    "    return density"
   ]
  },
  {
   "cell_type": "code",
   "execution_count": 4,
   "metadata": {},
   "outputs": [
    {
     "data": {
      "text/plain": [
       "[<matplotlib.lines.Line2D at 0x1ab748fa588>]"
      ]
     },
     "execution_count": 4,
     "metadata": {},
     "output_type": "execute_result"
    },
    {
     "data": {
      "image/png": "[encoded data removed]",
      "text/plain": [
       "<matplotlib.figure.Figure at 0x1ab74821668>"
      ]
     },
     "metadata": {},
     "output_type": "display_data"
    }
   ],
   "source": [
    "plt.plot(L, initial(L))"
   ]
  },
  {
   "cell_type": "code",
   "execution_count": 5,
   "metadata": {},
   "outputs": [
    {
     "data": {
      "text/plain": [
       "0.2017103807225175"
      ]
     },
     "execution_count": 5,
     "metadata": {},
     "output_type": "execute_result"
    }
   ],
   "source": [
    "avg_size = sum(initial(L)/len(initial(L)))\n",
    "avg_size\n",
    "#seems reasonable? (in um)"
   ]
  },
  {
   "cell_type": "markdown",
   "metadata": {},
   "source": [
    "**Assume there is no growth or brakage and only aggregation for now. (Eq. 2)**\n",
    "\n",
    "$$\\frac{\\Delta n}{\\Delta t} = B - D$$\n",
    "\n",
    "**To calculate the aggregation frequency, use the following equation. (Eq. 3)**\n",
    "\n",
    "$$\\beta_{j,k} = \\frac{2k_BT}{3{\\mu}W_{j,k}}(r_j+r_k)(\\frac{1}{r_j}+\\frac{1}{r_k}) $$\n",
    "\n",
    "Where the stability ratio $$ W_{j,k} = (r_j+r_k)\\int_{r_j+r_k}^{\\infty} \\frac{exp(V_T/(k_bT))}{R^2} dR $$\n",
    "\n",
    "$$ V_T = V_A + V_E $$\n",
    "\n",
    "$$ V_A = -\\frac{A}{6}(\\frac{2r_1r_2}{R^2-(r_1+r_2)^2}+\\frac{2r_1r_2}{R^2(r_1-r_2)^2}+\\frac{R^2-(r_1+r_2)^2}{R^2-(r_1-r_2)^2}) $$\n",
    "\n",
    "$$ V_E = 64\\pi\\epsilon_r\\epsilon_0(\\frac{k_BT}{z_ce})^2 tanh(\\frac{z_ce\\psi_{01}}{4k_BT})tanh(\\frac{z_ce\\psi_{02}}{4k_BT})(\\frac{r_1r_2}{r_1+r_2})exp(-\\kappa(R-r_1-r_2)) $$\n",
    "\n",
    "The value of the debye-huckel parameter comes from http://faculty.washington.edu/stn/ess_312/notes/Debye-Huckel.pdf.\n",
    "\n",
    "$$ \\kappa = \\sqrt{\\frac{8\\pi^2N\\rho I}{1000\\epsilon k T}} $$\n",
    "\n",
    "Where the ionic strength is the weighted sum of valence of the ions in solution. $$ I = \\frac{1}{2}\\sum_j m_j z_j^2 $$\n",
    "\n",
    "But this should simplify because we only have one ion in solution and we can solve for the molality and we already have the valence of the counterion."
   ]
  },
  {
   "cell_type": "code",
   "execution_count": 6,
   "metadata": {},
   "outputs": [],
   "source": [
    "#some constants, from paper\n",
    "kB = 1.3806 * 10**(-23) #m^2 * kg / (s^2 * K)\n",
    "A = 3.08 * 10**(-20) #J\n",
    "psi = 59/1000 #mV #surface potential (UNITS???)\n",
    "T = 300 #K, im assuming this cuz its not given\n",
    "mu = 0.00086 #N * s / m^2, from engineering toolbox cuz its not given\n",
    "#R = ??? #center to center distance btwn particles\n",
    "er = 80.4 #dielectric constant of solvent (water)\n",
    "e0 = 8.85*10**-12 #dielectric constant of vacuum (F/m) eng'g toolbox\n",
    "zc = 1 #valence of potassium counterion\n",
    "e = 1.6021766*10**-19 # elementary charge (C)\n",
    "N = 6.022*10**23 #Avogadros Number\n",
    "rho = 1*10**3 #kg/m^3 \n",
    "r1=1\n",
    "r2=2"
   ]
  },
  {
   "cell_type": "code",
   "execution_count": 7,
   "metadata": {},
   "outputs": [
    {
     "name": "stdout",
     "output_type": "stream",
     "text": [
      "The value for the Debye-Huckel Parameter is 4.5501598779759206e+21 ... I think..\n"
     ]
    }
   ],
   "source": [
    "#solve for the Debye-Huckel Parameter\n",
    "#it depends on the molality of salt ions in solution\n",
    "\n",
    "#ONLY VALID AT 0.29 M SALT\n",
    "\n",
    "M = 0.29 #mol/L\n",
    "m = M*1000/(rho)\n",
    "I = (m*zc**2)/2\n",
    "kappa = (8*(math.pi**2)*N*rho*I/(1000*er*kB*T))**.5\n",
    "print(\"The value for the Debye-Huckel Parameter is {} ... I think..\".format(kappa))"
   ]
  },
  {
   "cell_type": "code",
   "execution_count": 8,
   "metadata": {},
   "outputs": [],
   "source": [
    "#attractive potential\n",
    "def Va(R, r1, r2):\n",
    "    Va =-A/6*(2*r1*r2/(R**2-(r1+r2)**2)+2*r1*r2/(R**2*(r1-r2)**2)+(R**2-(r1 + r2)**2)/(R**2-(r1-r2)**2))\n",
    "    return Va\n",
    "\n",
    "#repulsive potential\n",
    "def Ve(R, r1,r2):\n",
    "    Ve=64*math.pi*er*e0*(kB*T/(zc*e))**2*(np.tanh(zc*e*psi/(4 * kB * T)))**2*r1*r2/(r1+r2)*np.exp(-kappa*(R-r1-r2))\n",
    "    return Ve\n",
    "\n",
    "#total potential\n",
    "def VT(R, r1,r2):\n",
    "    VT = Ve(R, r1,r2) + Va(R,r1,r2)\n",
    "    return VT\n",
    "\n",
    "#integrand to solve for the stability ratio\n",
    "def W(R, r1,r2):\n",
    "    W = (r1+r2)*np.exp(VT(R,r1,r2)/(kB*T))/(R^2)\n",
    "    return W\n",
    "\n",
    "#aggregation frequency / growth kernel\n",
    "def Beta(L, r1, r2):\n",
    "    #eqn 3 (Brownian aggregation), 4 (aggregation efficiency),\n",
    "    # and 5 and 6 (interaction potential components)\n",
    "    # the equations use both j,k and 1,2 should we just use one consistently?\n",
    "    \n",
    "    \n",
    "    #solve for the stability ratio\n",
    "    #we have to integrate over the range in possible center-to-center distances\n",
    "    Wjk = (r1 + r2) * integrate.quad(W, r1+r2, 1000)\n",
    "    \n",
    "    # in eqn theres two tanh for the two colliding paticles but if theyre the same they have the same surface potential\n",
    "    #solve for the aggregation frequency\n",
    "    beta = 2 * kB * T / (3 * mu * Wjk) * (r1 + r2) * (1/r1 + 1/r2)\n",
    "    return beta\n"
   ]
  },
  {
   "cell_type": "code",
   "execution_count": 9,
   "metadata": {},
   "outputs": [
    {
     "ename": "TypeError",
     "evalue": "W() missing 2 required positional arguments: 'r1' and 'r2'",
     "output_type": "error",
     "traceback": [
      "\u001b[1;31m---------------------------------------------------------------------------\u001b[0m",
      "\u001b[1;31mTypeError\u001b[0m                                 Traceback (most recent call last)",
      "\u001b[1;32m<ipython-input-9-5785af3e74fe>\u001b[0m in \u001b[0;36m<module>\u001b[1;34m()\u001b[0m\n\u001b[0;32m      2\u001b[0m \u001b[1;32mfor\u001b[0m \u001b[0mi\u001b[0m\u001b[1;33m,\u001b[0m\u001b[0mr1\u001b[0m \u001b[1;32min\u001b[0m \u001b[0menumerate\u001b[0m\u001b[1;33m(\u001b[0m\u001b[0mL\u001b[0m\u001b[1;33m)\u001b[0m\u001b[1;33m:\u001b[0m\u001b[1;33m\u001b[0m\u001b[0m\n\u001b[0;32m      3\u001b[0m     \u001b[1;32mfor\u001b[0m \u001b[0mj\u001b[0m\u001b[1;33m,\u001b[0m\u001b[0mr2\u001b[0m \u001b[1;32min\u001b[0m \u001b[0menumerate\u001b[0m\u001b[1;33m(\u001b[0m\u001b[0mL\u001b[0m\u001b[1;33m)\u001b[0m\u001b[1;33m:\u001b[0m\u001b[1;33m\u001b[0m\u001b[0m\n\u001b[1;32m----> 4\u001b[1;33m         \u001b[0mbeta_matrix\u001b[0m\u001b[1;33m[\u001b[0m\u001b[0mi\u001b[0m\u001b[1;33m,\u001b[0m\u001b[0mj\u001b[0m\u001b[1;33m]\u001b[0m \u001b[1;33m=\u001b[0m \u001b[0mBeta\u001b[0m\u001b[1;33m(\u001b[0m\u001b[0mL\u001b[0m\u001b[1;33m,\u001b[0m \u001b[0mr1\u001b[0m\u001b[1;33m,\u001b[0m \u001b[0mr2\u001b[0m\u001b[1;33m)\u001b[0m\u001b[1;33m\u001b[0m\u001b[0m\n\u001b[0m\u001b[0;32m      5\u001b[0m \u001b[0mprint\u001b[0m\u001b[1;33m(\u001b[0m\u001b[0mbeta_matrix\u001b[0m\u001b[1;33m.\u001b[0m\u001b[0mshape\u001b[0m\u001b[1;33m)\u001b[0m\u001b[1;33m\u001b[0m\u001b[0m\n\u001b[0;32m      6\u001b[0m \u001b[0mbeta_matrix\u001b[0m\u001b[1;33m\u001b[0m\u001b[0m\n",
      "\u001b[1;32m<ipython-input-8-837248addf30>\u001b[0m in \u001b[0;36mBeta\u001b[1;34m(L, r1, r2)\u001b[0m\n\u001b[0;32m     28\u001b[0m     \u001b[1;31m#solve for the stability ratio\u001b[0m\u001b[1;33m\u001b[0m\u001b[1;33m\u001b[0m\u001b[0m\n\u001b[0;32m     29\u001b[0m     \u001b[1;31m#we have to integrate over the range in possible center-to-center distances\u001b[0m\u001b[1;33m\u001b[0m\u001b[1;33m\u001b[0m\u001b[0m\n\u001b[1;32m---> 30\u001b[1;33m     \u001b[0mWjk\u001b[0m \u001b[1;33m=\u001b[0m \u001b[1;33m(\u001b[0m\u001b[0mr1\u001b[0m \u001b[1;33m+\u001b[0m \u001b[0mr2\u001b[0m\u001b[1;33m)\u001b[0m \u001b[1;33m*\u001b[0m \u001b[0mintegrate\u001b[0m\u001b[1;33m.\u001b[0m\u001b[0mquad\u001b[0m\u001b[1;33m(\u001b[0m\u001b[0mW\u001b[0m\u001b[1;33m,\u001b[0m \u001b[0mr1\u001b[0m\u001b[1;33m+\u001b[0m\u001b[0mr2\u001b[0m\u001b[1;33m,\u001b[0m \u001b[1;36m1000\u001b[0m\u001b[1;33m)\u001b[0m\u001b[1;33m\u001b[0m\u001b[0m\n\u001b[0m\u001b[0;32m     31\u001b[0m \u001b[1;33m\u001b[0m\u001b[0m\n\u001b[0;32m     32\u001b[0m     \u001b[1;31m# in eqn theres two tanh for the two colliding paticles but if theyre the same they have the same surface potential\u001b[0m\u001b[1;33m\u001b[0m\u001b[1;33m\u001b[0m\u001b[0m\n",
      "\u001b[1;32m~\\Anaconda3\\lib\\site-packages\\scipy\\integrate\\quadpack.py\u001b[0m in \u001b[0;36mquad\u001b[1;34m(func, a, b, args, full_output, epsabs, epsrel, limit, points, weight, wvar, wopts, maxp1, limlst)\u001b[0m\n\u001b[0;32m    321\u001b[0m     \u001b[1;32mif\u001b[0m \u001b[1;33m(\u001b[0m\u001b[0mweight\u001b[0m \u001b[1;32mis\u001b[0m \u001b[1;32mNone\u001b[0m\u001b[1;33m)\u001b[0m\u001b[1;33m:\u001b[0m\u001b[1;33m\u001b[0m\u001b[0m\n\u001b[0;32m    322\u001b[0m         retval = _quad(func, a, b, args, full_output, epsabs, epsrel, limit,\n\u001b[1;32m--> 323\u001b[1;33m                        points)\n\u001b[0m\u001b[0;32m    324\u001b[0m     \u001b[1;32melse\u001b[0m\u001b[1;33m:\u001b[0m\u001b[1;33m\u001b[0m\u001b[0m\n\u001b[0;32m    325\u001b[0m         retval = _quad_weight(func, a, b, args, full_output, epsabs, epsrel,\n",
      "\u001b[1;32m~\\Anaconda3\\lib\\site-packages\\scipy\\integrate\\quadpack.py\u001b[0m in \u001b[0;36m_quad\u001b[1;34m(func, a, b, args, full_output, epsabs, epsrel, limit, points)\u001b[0m\n\u001b[0;32m    386\u001b[0m     \u001b[1;32mif\u001b[0m \u001b[0mpoints\u001b[0m \u001b[1;32mis\u001b[0m \u001b[1;32mNone\u001b[0m\u001b[1;33m:\u001b[0m\u001b[1;33m\u001b[0m\u001b[0m\n\u001b[0;32m    387\u001b[0m         \u001b[1;32mif\u001b[0m \u001b[0minfbounds\u001b[0m \u001b[1;33m==\u001b[0m \u001b[1;36m0\u001b[0m\u001b[1;33m:\u001b[0m\u001b[1;33m\u001b[0m\u001b[0m\n\u001b[1;32m--> 388\u001b[1;33m             \u001b[1;32mreturn\u001b[0m \u001b[0m_quadpack\u001b[0m\u001b[1;33m.\u001b[0m\u001b[0m_qagse\u001b[0m\u001b[1;33m(\u001b[0m\u001b[0mfunc\u001b[0m\u001b[1;33m,\u001b[0m\u001b[0ma\u001b[0m\u001b[1;33m,\u001b[0m\u001b[0mb\u001b[0m\u001b[1;33m,\u001b[0m\u001b[0margs\u001b[0m\u001b[1;33m,\u001b[0m\u001b[0mfull_output\u001b[0m\u001b[1;33m,\u001b[0m\u001b[0mepsabs\u001b[0m\u001b[1;33m,\u001b[0m\u001b[0mepsrel\u001b[0m\u001b[1;33m,\u001b[0m\u001b[0mlimit\u001b[0m\u001b[1;33m)\u001b[0m\u001b[1;33m\u001b[0m\u001b[0m\n\u001b[0m\u001b[0;32m    389\u001b[0m         \u001b[1;32melse\u001b[0m\u001b[1;33m:\u001b[0m\u001b[1;33m\u001b[0m\u001b[0m\n\u001b[0;32m    390\u001b[0m             \u001b[1;32mreturn\u001b[0m \u001b[0m_quadpack\u001b[0m\u001b[1;33m.\u001b[0m\u001b[0m_qagie\u001b[0m\u001b[1;33m(\u001b[0m\u001b[0mfunc\u001b[0m\u001b[1;33m,\u001b[0m\u001b[0mbound\u001b[0m\u001b[1;33m,\u001b[0m\u001b[0minfbounds\u001b[0m\u001b[1;33m,\u001b[0m\u001b[0margs\u001b[0m\u001b[1;33m,\u001b[0m\u001b[0mfull_output\u001b[0m\u001b[1;33m,\u001b[0m\u001b[0mepsabs\u001b[0m\u001b[1;33m,\u001b[0m\u001b[0mepsrel\u001b[0m\u001b[1;33m,\u001b[0m\u001b[0mlimit\u001b[0m\u001b[1;33m)\u001b[0m\u001b[1;33m\u001b[0m\u001b[0m\n",
      "\u001b[1;31mTypeError\u001b[0m: W() missing 2 required positional arguments: 'r1' and 'r2'"
     ]
    }
   ],
   "source": [
    "beta_matrix = np.zeros((len(L),len(L)))\n",
    "for i,r1 in enumerate(L):\n",
    "    for j,r2 in enumerate(L):\n",
    "        beta_matrix[i,j] = Beta(L, r1, r2)\n",
    "print(beta_matrix.shape)\n",
    "beta_matrix"
   ]
  },
  {
   "cell_type": "code",
   "execution_count": null,
   "metadata": {},
   "outputs": [],
   "source": [
    "#W() missing 2 required positional arguments: 'r1' and 'r2' unsure whats happening here.\n",
    "#putting R last in W causes the issue to be only with R\n",
    "\n",
    "s=Va(1, r1, r2)\n",
    "s\n",
    "# i think this means the number is too small- A?"
   ]
  },
  {
   "cell_type": "code",
   "execution_count": null,
   "metadata": {},
   "outputs": [],
   "source": [
    "u=Ve(1, r1, r2)\n",
    "u\n",
    "#same issue, kappa?"
   ]
  },
  {
   "cell_type": "code",
   "execution_count": null,
   "metadata": {},
   "outputs": [],
   "source": []
  }
 ],
 "metadata": {
  "kernelspec": {
   "display_name": "Python 3",
   "language": "python",
   "name": "python3"
  },
  "language_info": {
   "codemirror_mode": {
    "name": "ipython",
    "version": 3
   },
   "file_extension": ".py",
   "mimetype": "text/x-python",
   "name": "python",
   "nbconvert_exporter": "python",
   "pygments_lexer": "ipython3",
   "version": "3.6.4"
  }
 },
 "nbformat": 4,
 "nbformat_minor": 2
}
