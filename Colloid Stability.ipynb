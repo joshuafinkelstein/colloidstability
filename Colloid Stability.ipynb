{
 "cells": [
  {
   "cell_type": "markdown",
   "metadata": {},
   "source": [
    "# Control of Aggregate Equilibrium Size\n",
    "\n",
    "Reference https://ac-els-cdn-com.ezproxy.neu.edu/S092777571300558X/1-s2.0-S092777571300558X-main.pdf?_tid=a68d75de-2d4b-4e84-858f-c3866c0dcf14&acdnat=1542312142_f822cc2a074bc4ea24c4df9fcae90672 for the initial part of the project."
   ]
  },
  {
   "cell_type": "code",
   "execution_count": 1,
   "metadata": {},
   "outputs": [],
   "source": [
    "%matplotlib inline\n",
    "import matplotlib.pyplot as plt\n",
    "import numpy as np\n",
    "import scipy.integrate as integrate\n",
    "import math"
   ]
  },
  {
   "cell_type": "code",
   "execution_count": 2,
   "metadata": {},
   "outputs": [],
   "source": [
    "L = np.linspace(0,5,101)\n",
    "size_step = np.diff(L)"
   ]
  },
  {
   "cell_type": "code",
   "execution_count": 3,
   "metadata": {},
   "outputs": [],
   "source": [
    "def initial(L):\n",
    "    #eqn taken from reference 39, eqn 20, v0 assumed to be 1 m^-3, like in the paper\n",
    "    density = np.exp(-L)\n",
    "    return density"
   ]
  },
  {
   "cell_type": "code",
   "execution_count": 93,
   "metadata": {},
   "outputs": [
    {
     "name": "stdout",
     "output_type": "stream",
     "text": [
      "[100000.          95122.94245007  90483.7418036   86070.79764251\n",
      "  81873.0753078   77880.07830714  74081.82206817  70468.80897187\n",
      "  67032.00460356  63762.81516218  60653.06597126  57694.98103805\n",
      "  54881.1636094   52204.5776761   49658.53037914  47236.6552741\n",
      "  44932.89641172  42741.49319487  40656.96597406  38674.10234545\n",
      "  36787.94411714  34993.77491112  33287.10836981  31663.67693791\n",
      "  30119.42119122  28650.47968602  27253.1793034   25924.02606459\n",
      "  24659.69639416  23457.02880938  22313.01601484  21224.79738267\n",
      "  20189.65179947  19204.99086208  18268.35240527  17377.39434504\n",
      "  16529.88882216  15723.71663136  14956.86192226  14227.40715865\n",
      "  13533.52832366  12873.49035878  12245.6428253   11648.41577735\n",
      "  11080.31583623  10539.92245619  10025.88437228   9536.91622155\n",
      "   9071.79532894   8629.35864994   8208.49986239   7808.16660012\n",
      "   7427.35782143   7065.12130604   6720.55127397   6392.78612067\n",
      "   6081.00626252   5784.43208748   5502.32200564   5233.97059484\n",
      "   4978.70683679   4735.89243911   4504.92023936   4285.2126867\n",
      "   4076.22039784   3877.42078317   3688.31674012   3508.43541008\n",
      "   3337.32699603   3174.56363781   3019.73834223   2872.46396542\n",
      "   2732.37224473   2599.11287788   2472.35264703   2351.7745856\n",
      "   2237.07718562   2127.97364384   2024.19114458   1925.47017754\n",
      "   1831.56388887   1742.23746395   1657.26754018   1576.44164849\n",
      "   1499.55768205   1426.4233909    1356.85590122   1290.68125805\n",
      "   1227.73399031   1167.85669704   1110.89965382   1056.72043839\n",
      "   1005.18357446    956.16019305    909.52771017    865.16952031\n",
      "    822.9747049     782.83775492    744.65830709    708.34089291\n",
      "    673.79469991]\n"
     ]
    },
    {
     "data": {
      "image/png": "[encoded data removed]",
      "text/plain": [
       "<Figure size 432x288 with 1 Axes>"
      ]
     },
     "metadata": {},
     "output_type": "display_data"
    }
   ],
   "source": [
    "Ntotal = 100000\n",
    "distribution = initial(L)*100000\n",
    "plt.plot(L, initial(L))\n",
    "print(distribution)"
   ]
  },
  {
   "cell_type": "code",
   "execution_count": 5,
   "metadata": {},
   "outputs": [
    {
     "data": {
      "text/plain": [
       "0.2017103807225175"
      ]
     },
     "execution_count": 5,
     "metadata": {},
     "output_type": "execute_result"
    }
   ],
   "source": [
    "avg_size = sum(initial(L)/len(initial(L)))\n",
    "avg_size\n",
    "#seems reasonable? (in um)"
   ]
  },
  {
   "cell_type": "markdown",
   "metadata": {},
   "source": [
    "**Assume there is no growth or brakage and only aggregation for now. (Eq. 2)**\n",
    "\n",
    "$$\\frac{\\Delta n}{\\Delta t} = B - D$$\n",
    "\n",
    "**To calculate the aggregation frequency, use the following equation. (Eq. 3)**\n",
    "\n",
    "$$\\beta_{j,k} = \\frac{2k_BT}{3{\\mu}W_{j,k}}(r_j+r_k)(\\frac{1}{r_j}+\\frac{1}{r_k}) $$\n",
    "\n",
    "Where the stability ratio $$ W_{j,k} = (r_j+r_k)\\int_{r_j+r_k}^{\\infty} \\frac{exp(V_T/(k_bT))}{R^2} dR $$\n",
    "\n",
    "$$ V_T = V_A + V_E $$\n",
    "\n",
    "$$ V_A = -\\frac{A}{6}(\\frac{2r_1r_2}{R^2-(r_1+r_2)^2}+\\frac{2r_1r_2}{R^2(r_1-r_2)^2}+\\frac{R^2-(r_1+r_2)^2}{R^2-(r_1-r_2)^2}) $$\n",
    "\n",
    "$$ V_E = 64\\pi\\epsilon_r\\epsilon_0(\\frac{k_BT}{z_ce})^2 tanh(\\frac{z_ce\\psi_{01}}{4k_BT})tanh(\\frac{z_ce\\psi_{02}}{4k_BT})(\\frac{r_1r_2}{r_1+r_2})exp(-\\kappa(R-r_1-r_2)) $$\n",
    "\n",
    "The value of the debye-huckel parameter comes from http://faculty.washington.edu/stn/ess_312/notes/Debye-Huckel.pdf.\n",
    "\n",
    "$$ \\kappa = \\sqrt{\\frac{8\\pi^2N\\rho I}{1000\\epsilon k T}} $$\n",
    "\n",
    "Where the ionic strength is the weighted sum of valence of the ions in solution. $$ I = \\frac{1}{2}\\sum_j m_j z_j^2 $$\n",
    "\n",
    "But this should simplify because we only have one ion in solution and we can solve for the molality and we already have the valence of the counterion."
   ]
  },
  {
   "cell_type": "code",
   "execution_count": 24,
   "metadata": {},
   "outputs": [],
   "source": [
    "#some constants, from paper\n",
    "kB = 1.3806 * 10**(-23) #m^2 * kg / (s^2 * K)\n",
    "A = 3.08 * 10**(-20) #J\n",
    "psi = 59/1000 #mV #surface potential (UNITS???)\n",
    "T = 300. #K, im assuming this cuz its not given\n",
    "mu = 0.00086 #N * s / m^2, from engineering toolbox cuz its not given\n",
    "#R = ??? #center to center distance btwn particles\n",
    "er = 80.4 #dielectric constant of solvent (water)\n",
    "e0 = 8.85*10**-12 #dielectric constant of vacuum (F/m) eng'g toolbox\n",
    "zc = 1. #valence of potassium counterion\n",
    "e = 1.6021766*10**-19 # elementary charge (C)\n",
    "N = 6.022*10**23 #Avogadros Number\n",
    "rho = 1.*10**3 #kg/m^3 \n",
    "r1=1.\n",
    "r2=2."
   ]
  },
  {
   "cell_type": "code",
   "execution_count": 25,
   "metadata": {},
   "outputs": [
    {
     "name": "stdout",
     "output_type": "stream",
     "text": [
      "The value for the Debye-Huckel Parameter is 4.5501598779759206e+21 ... I think..\n"
     ]
    }
   ],
   "source": [
    "#solve for the Debye-Huckel Parameter\n",
    "#it depends on the molality of salt ions in solution\n",
    "\n",
    "#ONLY VALID AT 0.29 M SALT\n",
    "\n",
    "M = 0.29 #mol/L\n",
    "m = M*1000/(rho)\n",
    "I = (m*zc**2)/2\n",
    "kappa = (8*(math.pi**2)*N*rho*I/(1000*er*kB*T))**.5\n",
    "print(\"The value for the Debye-Huckel Parameter is {} ... I think..\".format(kappa))"
   ]
  },
  {
   "cell_type": "code",
   "execution_count": 47,
   "metadata": {},
   "outputs": [],
   "source": [
    "#attractive potential\n",
    "def Va(R):#, r1, r2):\n",
    "    Va =-A/6*(2*r1*r2/(R**2-(r1+r2)**2)+2*r1*r2/(R**2*(r1-r2)**2)+(R**2-(r1 + r2)**2)/(R**2-(r1-r2)**2))\n",
    "    return Va\n",
    "\n",
    "#repulsive potential\n",
    "def Ve(R):#, r1,r2):\n",
    "    Ve=64*math.pi*er*e0*(kB*T/(zc*e))**2*(np.tanh(zc*e*psi/(4 * kB * T)))**2*r1*r2/(r1+r2)*np.exp(-kappa*(R-r1-r2))\n",
    "    return Ve\n",
    "\n",
    "#total potential\n",
    "def VT(R):#, r1,r2):\n",
    "    VT = Ve(R) + Va(R)\n",
    "    return VT\n",
    "\n",
    "#integrand to solve for the stability ratio\n",
    "def W(R):#, r1,r2):\n",
    "    W = (r1+r2)*np.exp(VT(R)/(kB*T))/(R**2)\n",
    "    return W\n",
    "\n",
    "#aggregation frequency / growth kernel\n",
    "#takes in r1 and r2 and outputs aggregation frequency\n",
    "def Beta(r1,r2):\n",
    "    #eqn 3 (Brownian aggregation), 4 (aggregation efficiency),\n",
    "    # and 5 and 6 (interaction potential components)\n",
    "    # the equations use both j,k and 1,2 should we just use one consistently?\n",
    "    \n",
    "    if(r1==0):\n",
    "        r1 = 0.00001\n",
    "    if(r2==0):\n",
    "        r2 = 0.00001\n",
    "    \n",
    "    #center-to-center distance when the particles are in contact\n",
    "    R0 = r1+r2\n",
    "    \n",
    "    #solve for the stability ratio\n",
    "    #we have to integrate over the range in possible center-to-center distances\n",
    "    \n",
    "    #assume all collisons result in aggregation\n",
    "    Wjk = 1 #integrate.quad(W, L, 1000)\n",
    "    \n",
    "    # in eqn theres two tanh for the two colliding paticles but if theyre the same they have the same surface potential\n",
    "    #solve for the aggregation frequency\n",
    "    #calculate the combinations of two particles that can lead to an aggregate of size L\n",
    " \n",
    "    beta = 2 * kB * T / (3 * mu * Wjk) * (r1 + r2) * (1/r1 + 1/r2)\n",
    "    return beta\n"
   ]
  },
  {
   "cell_type": "code",
   "execution_count": 48,
   "metadata": {},
   "outputs": [
    {
     "data": {
      "text/plain": [
       "array([0.  , 0.05, 0.1 , 0.15, 0.2 , 0.25, 0.3 , 0.35, 0.4 , 0.45, 0.5 ,\n",
       "       0.55, 0.6 , 0.65, 0.7 , 0.75, 0.8 , 0.85, 0.9 , 0.95, 1.  , 1.05,\n",
       "       1.1 , 1.15, 1.2 , 1.25, 1.3 , 1.35, 1.4 , 1.45, 1.5 , 1.55, 1.6 ,\n",
       "       1.65, 1.7 , 1.75, 1.8 , 1.85, 1.9 , 1.95, 2.  , 2.05, 2.1 , 2.15,\n",
       "       2.2 , 2.25, 2.3 , 2.35, 2.4 , 2.45, 2.5 , 2.55, 2.6 , 2.65, 2.7 ,\n",
       "       2.75, 2.8 , 2.85, 2.9 , 2.95, 3.  , 3.05, 3.1 , 3.15, 3.2 , 3.25,\n",
       "       3.3 , 3.35, 3.4 , 3.45, 3.5 , 3.55, 3.6 , 3.65, 3.7 , 3.75, 3.8 ,\n",
       "       3.85, 3.9 , 3.95, 4.  , 4.05, 4.1 , 4.15, 4.2 , 4.25, 4.3 , 4.35,\n",
       "       4.4 , 4.45, 4.5 , 4.55, 4.6 , 4.65, 4.7 , 4.75, 4.8 , 4.85, 4.9 ,\n",
       "       4.95, 5.  ])"
      ]
     },
     "execution_count": 48,
     "metadata": {},
     "output_type": "execute_result"
    }
   ],
   "source": [
    "Beta(0.7,1.3)\n",
    "L"
   ]
  },
  {
   "cell_type": "code",
   "execution_count": 61,
   "metadata": {},
   "outputs": [
    {
     "name": "stdout",
     "output_type": "stream",
     "text": [
      "(101, 101)\n"
     ]
    },
    {
     "data": {
      "text/plain": [
       "array([[0.00000000e+00, 0.00000000e+00, 0.00000000e+00, ...,\n",
       "        0.00000000e+00, 0.00000000e+00, 0.00000000e+00],\n",
       "       [1.60599104e-14, 0.00000000e+00, 0.00000000e+00, ...,\n",
       "        0.00000000e+00, 0.00000000e+00, 0.00000000e+00],\n",
       "       [3.21133985e-14, 1.44481395e-17, 0.00000000e+00, ...,\n",
       "        0.00000000e+00, 0.00000000e+00, 0.00000000e+00],\n",
       "       ...,\n",
       "       [1.57324828e-12, 3.21102530e-16, 1.63811106e-16, ...,\n",
       "        0.00000000e+00, 0.00000000e+00, 0.00000000e+00],\n",
       "       [1.58930177e-12, 3.24312896e-16, 1.65415793e-16, ...,\n",
       "        1.28431216e-17, 0.00000000e+00, 0.00000000e+00],\n",
       "       [1.60535526e-12, 3.27523270e-16, 1.67020493e-16, ...,\n",
       "        1.28441012e-17, 1.28431150e-17, 0.00000000e+00]])"
      ]
     },
     "execution_count": 61,
     "metadata": {},
     "output_type": "execute_result"
    }
   ],
   "source": [
    "#all possible combinations\n",
    "beta_matrix = np.zeros((len(L),len(L)))\n",
    "for indexi, i in enumerate(L):\n",
    "    for indexj, j in enumerate(L):\n",
    "        if(j < i):\n",
    "            beta_matrix[indexi,indexj] = Beta(i,j)\n",
    "        else:\n",
    "            break\n",
    "print(beta_matrix.shape)\n",
    "beta_matrix"
   ]
  },
  {
   "cell_type": "code",
   "execution_count": 98,
   "metadata": {},
   "outputs": [],
   "source": [
    "#birth rate\n",
    "def birthrate(particle_size):\n",
    "    for i in enumerate(L):\n",
    "        size = i[1]\n",
    "        if (size==particle_size):\n",
    "            indexL = i[0]\n",
    "            break\n",
    "            \n",
    "    subL = L[1:indexL:1]\n",
    "    \n",
    "    birth = 0\n",
    "    indexi = 0\n",
    "    for i in subL:\n",
    "        indexj = 0\n",
    "        for j in subL:\n",
    "            if (i+j==particle_size):\n",
    "                birth += Beta(i,j)*distribution[indexi]*distribution[indexj]\n",
    "                #print((distribution[indexi],distribution[indexj]))\n",
    "            indexj += 1\n",
    "        indexi += 1\n",
    "        \n",
    "    return birth"
   ]
  },
  {
   "cell_type": "code",
   "execution_count": 99,
   "metadata": {},
   "outputs": [
    {
     "name": "stdout",
     "output_type": "stream",
     "text": [
      "1.3792104449866698e-06\n"
     ]
    }
   ],
   "source": [
    "print(birthrate(1.3))"
   ]
  },
  {
   "cell_type": "code",
   "execution_count": 100,
   "metadata": {},
   "outputs": [],
   "source": [
    "#death rate\n",
    "def deathrate(particle_size):\n",
    "    for i in enumerate(L):\n",
    "        size = i[1]\n",
    "        if (size==particle_size):\n",
    "            indexj = i[0]\n",
    "            break\n",
    "            \n",
    "    j = particle_size\n",
    "    death = 0\n",
    "    indexi = 0\n",
    "    for i in L:\n",
    "        death += Beta(i,j)*distribution[indexi]*distribution[indexj]\n",
    "        indexi += 1\n",
    "        \n",
    "    return death"
   ]
  },
  {
   "cell_type": "code",
   "execution_count": 102,
   "metadata": {},
   "outputs": [
    {
     "name": "stdout",
     "output_type": "stream",
     "text": [
      "0.001138695095562622\n"
     ]
    }
   ],
   "source": [
    "print(deathrate(1.3))"
   ]
  },
  {
   "cell_type": "code",
   "execution_count": null,
   "metadata": {},
   "outputs": [],
   "source": []
  }
 ],
 "metadata": {
  "kernelspec": {
   "display_name": "Python 3",
   "language": "python",
   "name": "python3"
  },
  "language_info": {
   "codemirror_mode": {
    "name": "ipython",
    "version": 3
   },
   "file_extension": ".py",
   "mimetype": "text/x-python",
   "name": "python",
   "nbconvert_exporter": "python",
   "pygments_lexer": "ipython3",
   "version": "3.6.5"
  }
 },
 "nbformat": 4,
 "nbformat_minor": 2
}
