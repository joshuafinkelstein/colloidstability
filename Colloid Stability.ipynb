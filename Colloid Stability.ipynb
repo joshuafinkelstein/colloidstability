{
 "cells": [
  {
   "cell_type": "markdown",
   "metadata": {},
   "source": [
    "# Control of Aggregate Equilibrium Size\n",
    "\n",
    "Reference https://ac-els-cdn-com.ezproxy.neu.edu/S092777571300558X/1-s2.0-S092777571300558X-main.pdf?_tid=a68d75de-2d4b-4e84-858f-c3866c0dcf14&acdnat=1542312142_f822cc2a074bc4ea24c4df9fcae90672 for the initial part of the project."
   ]
  },
  {
   "cell_type": "code",
   "execution_count": 1,
   "metadata": {},
   "outputs": [],
   "source": [
    "%matplotlib inline\n",
    "import matplotlib.pyplot as plt\n",
    "import numpy as np\n",
    "import scipy.integrate as integrate\n",
    "import math"
   ]
  },
  {
   "cell_type": "code",
   "execution_count": 2,
   "metadata": {},
   "outputs": [],
   "source": [
    "L = np.linspace(0,5,101)\n",
    "L = L/ 10**6\n",
    "size_step = np.diff(L)"
   ]
  },
  {
   "cell_type": "code",
   "execution_count": 3,
   "metadata": {},
   "outputs": [],
   "source": [
    "def initial(L):\n",
    "    #eqn taken from reference 39, eqn 20, v0 assumed to be 1 m^-3, like in the paper\n",
    "    density = np.exp(-L)\n",
    "    return density"
   ]
  },
  {
   "cell_type": "code",
   "execution_count": 4,
   "metadata": {},
   "outputs": [
    {
     "name": "stdout",
     "output_type": "stream",
     "text": [
      "[100000.          99999.995       99999.99        99999.985\n",
      "  99999.98        99999.975       99999.97        99999.96500001\n",
      "  99999.96000001  99999.95500001  99999.95000001  99999.94500002\n",
      "  99999.94000002  99999.93500002  99999.93000002  99999.92500003\n",
      "  99999.92000003  99999.91500004  99999.91000004  99999.90500005\n",
      "  99999.90000005  99999.89500006  99999.89000006  99999.88500007\n",
      "  99999.88000007  99999.87500008  99999.87000008  99999.86500009\n",
      "  99999.8600001   99999.85500011  99999.85000011  99999.84500012\n",
      "  99999.84000013  99999.83500014  99999.83000014  99999.82500015\n",
      "  99999.82000016  99999.81500017  99999.81000018  99999.80500019\n",
      "  99999.8000002   99999.79500021  99999.79000022  99999.78500023\n",
      "  99999.78000024  99999.77500025  99999.77000026  99999.76500028\n",
      "  99999.76000029  99999.7550003   99999.75000031  99999.74500033\n",
      "  99999.74000034  99999.73500035  99999.73000036  99999.72500038\n",
      "  99999.72000039  99999.71500041  99999.71000042  99999.70500044\n",
      "  99999.70000045  99999.69500047  99999.69000048  99999.6850005\n",
      "  99999.68000051  99999.67500053  99999.67000054  99999.66500056\n",
      "  99999.66000058  99999.6550006   99999.65000061  99999.64500063\n",
      "  99999.64000065  99999.63500067  99999.63000068  99999.6250007\n",
      "  99999.62000072  99999.61500074  99999.61000076  99999.60500078\n",
      "  99999.6000008   99999.59500082  99999.59000084  99999.58500086\n",
      "  99999.58000088  99999.5750009   99999.57000092  99999.56500095\n",
      "  99999.56000097  99999.55500099  99999.55000101  99999.54500104\n",
      "  99999.54000106  99999.53500108  99999.5300011   99999.52500113\n",
      "  99999.52000115  99999.51500118  99999.5100012   99999.50500123\n",
      "  99999.50000125]\n"
     ]
    },
    {
     "data": {
      "image/png": "[encoded data removed]",
      "text/plain": [
       "<matplotlib.figure.Figure at 0x25ed87fea20>"
      ]
     },
     "metadata": {},
     "output_type": "display_data"
    }
   ],
   "source": [
    "Ntotal = 100000\n",
    "distribution = initial(L)*100000\n",
    "plt.plot(L, initial(L))\n",
    "print(distribution)"
   ]
  },
  {
   "cell_type": "code",
   "execution_count": 5,
   "metadata": {},
   "outputs": [
    {
     "data": {
      "text/plain": [
       "0.9999975000041873"
      ]
     },
     "execution_count": 5,
     "metadata": {},
     "output_type": "execute_result"
    }
   ],
   "source": [
    "avg_size = sum(initial(L)/len(initial(L)))\n",
    "avg_size\n",
    "#seems reasonable? (in um)"
   ]
  },
  {
   "cell_type": "markdown",
   "metadata": {},
   "source": [
    "**Assume there is no growth or brakage and only aggregation for now. (Eq. 2)**\n",
    "\n",
    "$$\\frac{\\Delta n}{\\Delta t} = B - D$$\n",
    "\n",
    "**To calculate the aggregation frequency, use the following equation. (Eq. 3)**\n",
    "\n",
    "$$\\beta_{j,k} = \\frac{2k_BT}{3{\\mu}W_{j,k}}(r_j+r_k)(\\frac{1}{r_j}+\\frac{1}{r_k}) $$\n",
    "\n",
    "Where the stability ratio $$ W_{j,k} = (r_j+r_k)\\int_{r_j+r_k}^{\\infty} \\frac{exp(V_T/(k_bT))}{R^2} dR $$\n",
    "\n",
    "$$ V_T = V_A + V_E $$\n",
    "\n",
    "$$ V_A = -\\frac{A}{6}(\\frac{2r_1r_2}{R^2-(r_1+r_2)^2}+\\frac{2r_1r_2}{R^2(r_1-r_2)^2}+\\frac{R^2-(r_1+r_2)^2}{R^2-(r_1-r_2)^2}) $$\n",
    "\n",
    "$$ V_E = 64\\pi\\epsilon_r\\epsilon_0(\\frac{k_BT}{z_ce})^2 tanh(\\frac{z_ce\\psi_{01}}{4k_BT})tanh(\\frac{z_ce\\psi_{02}}{4k_BT})(\\frac{r_1r_2}{r_1+r_2})exp(-\\kappa(R-r_1-r_2)) $$\n",
    "\n",
    "The value of the debye-huckel parameter comes from Russel, W.B., Saville, D.A. and Schowalter, W. R. Colloidal Dispersions, Cambridge University Press, 1989\n",
    "\n",
    "\n",
    "$$ \\kappa = \\sqrt{\\frac{2000e^2N I}{\\epsilon_r \\epsilon_0 k T}} $$\n",
    "\n",
    "Where the ionic strength is the weighted sum of valence of the ions in solution. $$ I = \\frac{1}{2}\\sum_j m_j z_j^2 $$\n",
    "\n",
    "But this should simplify because we only have one ion in solution and we can solve for the molality and we already have the valence of the counterion."
   ]
  },
  {
   "cell_type": "code",
   "execution_count": 6,
   "metadata": {},
   "outputs": [],
   "source": [
    "#some constants, from paper\n",
    "kB = 1.3806 * 10**(-23) #m^2 * kg / (s^2 * K)\n",
    "A = 3.08 * 10**(-20) #J\n",
    "psi = 59./1000 #mV #surface potential (UNITS???)\n",
    "T = 300. #K, im assuming this cuz its not given\n",
    "mu = 0.00086 #N * s / m^2, from engineering toolbox cuz its not given\n",
    "er = 80.4 #dielectric constant of solvent (water)\n",
    "e0 = 8.85*10**-12 #dielectric constant of vacuum (F/m) eng'g toolbox\n",
    "zc = 1. #valence of potassium counterion\n",
    "e = 1.6021766*10**-19 # elementary charge (C)\n",
    "N = 6.022*10**23 #Avogadros Number\n",
    "rho = 1.*10**3 #kg/m^3 "
   ]
  },
  {
   "cell_type": "code",
   "execution_count": 91,
   "metadata": {},
   "outputs": [
    {
     "name": "stdout",
     "output_type": "stream",
     "text": [
      "The value for the Debye-Huckel Parameter is 8.108013489212379e-10 ... I think..\n"
     ]
    }
   ],
   "source": [
    "#solve for the Debye-Huckel Parameter\n",
    "#it depends on the molality of salt ions in solution\n",
    "\n",
    "#ONLY VALID AT 0.29 M SALT\n",
    "\n",
    "M = 0.29 #mol/L\n",
    "m = M*1000/(rho)\n",
    "I = (m*zc**2)/2\n",
    "#kappa = (8*(math.pi**2)*N*rho*I/(1000*er*kB*T))**.5 old value, gave value on order of 10^20\n",
    "kappa = (er * e0 * kB * T / (2 * 1000 * N *e**2 * I))**0.5\n",
    "print(\"The value for the Debye-Huckel Parameter is {} ... I think..\".format(kappa))\n",
    "#debye huckel only value for low concentration electrolytes, which this isnt"
   ]
  },
  {
   "cell_type": "code",
   "execution_count": 8,
   "metadata": {},
   "outputs": [],
   "source": [
    "#attractive potential\n",
    "def Va(R):#, r1, r2):\n",
    "    Va =-A/6*(2*r1*r2/(R**2-(r1+r2)**2)+2*r1*r2/(R**2*(r1-r2)**2)+(R**2-(r1 + r2)**2)/(R**2-(r1-r2)**2))\n",
    "    return Va\n",
    "\n",
    "#repulsive potential\n",
    "def Ve(R):#, r1,r2):\n",
    "    Ve=64*math.pi*er*e0*(kB*T/(zc*e))**2*(np.tanh(zc*e*psi/(4. * kB * T)))**2*r1*r2/(r1+r2)*np.exp(-kappa*(R-r1-r2))\n",
    "    return Ve\n",
    "\n",
    "#total potential\n",
    "def VT(R):#, r1,r2):\n",
    "    VT = Ve(R) +Va(R)\n",
    "    return VT\n",
    "\n",
    "#integrand to solve for the stability ratio\n",
    "def W(R):#, r1,r2):\n",
    "    W = (r1+r2) * np.exp(VT(R)/(kB*T))/(R**2)\n",
    "    \n",
    "    return W\n",
    "\n",
    "#aggregation frequency / growth kernel\n",
    "#takes in r1 and r2 and outputs aggregation frequency\n",
    "def Beta(r1, r2):\n",
    "    #eqn 3 (Brownian aggregation), 4 (aggregation efficiency),\n",
    "    # and 5 and 6 (interaction potential components)\n",
    "    # the equations use both j,k and 1,2 should we just use one consistently?\n",
    "    r1=r1 /10**6\n",
    "    r2=r2 / 10**6\n",
    "    if(r1==0):\n",
    "        r1 = 0.00001\n",
    "    if(r2==0):\n",
    "        r2 = 0.00001\n",
    "    \n",
    "    #center-to-center distance when the particles are in contact\n",
    "    R0 = r1+r2\n",
    "    \n",
    "    #solve for the stability ratio\n",
    "    #we have to integrate over the range in possible center-to-center distances\n",
    "    \n",
    "    #assume all collisons result in aggregation\n",
    "    Wjk = integrate.quad(W, R0, 1000.)\n",
    "    \n",
    "    # in eqn theres two tanh for the two colliding paticles but if theyre the same they have the same surface potential\n",
    "    #solve for the aggregation frequency\n",
    "    #calculate the combinations of two particles that can lead to an aggregate of size R0\n",
    " \n",
    "    beta = 2 * kB * T / (3 * mu * Wjk[0]) * (r1 + r2) * (1/r1 + 1/r2)\n",
    "    return beta\n"
   ]
  },
  {
   "cell_type": "code",
   "execution_count": 108,
   "metadata": {},
   "outputs": [
    {
     "name": "stdout",
     "output_type": "stream",
     "text": [
      "[1.0000000000000002, 1.0000000000000002, 1.0000000000000002, 1.0000000000000002, 1.0000000000000002, 1.0000000000000002, 1.0000000000000002, 1.0000000000000002, 1.0000000000000002, 1.0000000000000002, 1.0000000000000002, 1.0000000000000002, 1.0000000000000002, 1.0000000000000002, 1.0000000000000002, 1.0000000000000002, 1.0000000000000002, 1.0000000000000002, 1.0000000000000002, 1.0000000000000002]\n"
     ]
    },
    {
     "name": "stderr",
     "output_type": "stream",
     "text": [
      "C:\\Users\\Rachel\\Anaconda3\\lib\\site-packages\\ipykernel_launcher.py:11: RuntimeWarning: divide by zero encountered in double_scalars\n",
      "  # This is added back by InteractiveShellApp.init_path()\n"
     ]
    },
    {
     "data": {
      "image/png": "[encoded data removed]",
      "text/plain": [
       "<matplotlib.figure.Figure at 0x25ed9f63710>"
      ]
     },
     "metadata": {},
     "output_type": "display_data"
    }
   ],
   "source": [
    "r1=0.200 /10**6\n",
    "r2=0.205/10**6\n",
    "R=np.linspace(0,100,20)\n",
    "R=R/10**9\n",
    "VE=[]\n",
    "VA=[]\n",
    "for i in range(len(R)):\n",
    "    #Ve= 64*math.pi*er*e0*((kB*T/(zc*e))**2)*((np.tanh(zc*e*psi/(4. * kB * T)))**2)*r1*r2/(r1+r2)*np.exp(-kappa*(R[i]-r1-r2))\n",
    "    \n",
    "    Ve= np.exp(-kappa*(R[i]-r1-r2))\n",
    "    Va =-A/6*(2*r1*r2/(R[i]**2-(r1+r2)**2)+2*r1*r2/(R[i]**2*(r1-r2)**2)+(R[i]**2-(r1 + r2)**2)/(R[i]**2-(r1-r2)**2))\n",
    "    VE.append(Ve)\n",
    "    #VA.append(Va)\n",
    "R=R*10**9\n",
    "plt.plot(R, VE, 'b')\n",
    "#plt.plot(R, VA, 'c')\n",
    "#plt.ylim(-200,200)\n",
    "print(VE)"
   ]
  },
  {
   "cell_type": "code",
   "execution_count": null,
   "metadata": {},
   "outputs": [],
   "source": [
    "Beta(0.7,1.3)"
   ]
  },
  {
   "cell_type": "code",
   "execution_count": null,
   "metadata": {},
   "outputs": [],
   "source": []
  },
  {
   "cell_type": "code",
   "execution_count": null,
   "metadata": {},
   "outputs": [],
   "source": [
    "#all possible combinations\n",
    "beta_matrix = np.zeros((len(L),len(L)))\n",
    "for indexi, i in enumerate(L):\n",
    "    for indexj, j in enumerate(L):\n",
    "        if(j < i):\n",
    "            beta_matrix[indexi,indexj] = Beta(i,j)\n",
    "        else:\n",
    "            break\n",
    "print(beta_matrix.shape)\n",
    "beta_matrix"
   ]
  },
  {
   "cell_type": "code",
   "execution_count": null,
   "metadata": {},
   "outputs": [],
   "source": [
    "#birth rate\n",
    "def birthrate(particle_size):\n",
    "    for i in enumerate(L):\n",
    "        size = i[1]\n",
    "        if (size==particle_size):\n",
    "            indexL = i[0]\n",
    "            break\n",
    "            \n",
    "    subL = L[1:indexL:1]\n",
    "    \n",
    "    birth = 0\n",
    "    indexi = 0\n",
    "    for i in subL:\n",
    "        indexj = 0\n",
    "        for j in subL:\n",
    "            if (i+j==particle_size):\n",
    "                birth += Beta(i,j)*distribution[indexi]*distribution[indexj]\n",
    "                #print((distribution[indexi],distribution[indexj]))\n",
    "            indexj += 1\n",
    "        indexi += 1\n",
    "        \n",
    "    return birth"
   ]
  },
  {
   "cell_type": "code",
   "execution_count": null,
   "metadata": {},
   "outputs": [],
   "source": [
    "print(birthrate(1.3))"
   ]
  },
  {
   "cell_type": "code",
   "execution_count": null,
   "metadata": {},
   "outputs": [],
   "source": [
    "#death rate\n",
    "def deathrate(particle_size):\n",
    "    for i in enumerate(L):\n",
    "        size = i[1]\n",
    "        if (size==particle_size):\n",
    "            indexj = i[0]\n",
    "            break\n",
    "            \n",
    "    j = particle_size\n",
    "    death = 0\n",
    "    indexi = 0\n",
    "    for i in L:\n",
    "        death += Beta(i,j)*distribution[indexi]*distribution[indexj]\n",
    "        indexi += 1\n",
    "        \n",
    "    return death"
   ]
  },
  {
   "cell_type": "code",
   "execution_count": null,
   "metadata": {},
   "outputs": [],
   "source": [
    "print(deathrate(1.3))"
   ]
  },
  {
   "cell_type": "code",
   "execution_count": null,
   "metadata": {},
   "outputs": [],
   "source": [
    "#solve different equation for each bin in L\n",
    "def rate_of_change(n, t, L):\n",
    "    s"
   ]
  }
 ],
 "metadata": {
  "kernelspec": {
   "display_name": "Python 3",
   "language": "python",
   "name": "python3"
  },
  "language_info": {
   "codemirror_mode": {
    "name": "ipython",
    "version": 3
   },
   "file_extension": ".py",
   "mimetype": "text/x-python",
   "name": "python",
   "nbconvert_exporter": "python",
   "pygments_lexer": "ipython3",
   "version": "3.6.4"
  }
 },
 "nbformat": 4,
 "nbformat_minor": 2
}
