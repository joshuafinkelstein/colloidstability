{
 "cells": [
  {
   "cell_type": "code",
   "execution_count": null,
   "metadata": {},
   "outputs": [],
   "source": [
    "r1=0.200 /10**6\n",
    "r2=0.205/10**6\n",
    "R=np.linspace(0,100,20)\n",
    "R=R/10**9\n",
    "VE=[]\n",
    "VA=[]\n",
    "for i in range(len(R)):\n",
    "    #Ve= 64*math.pi*er*e0*((kB*T/(zc*e))**2)*((np.tanh(zc*e*psi/(4. * kB * T)))**2)*r1*r2/(r1+r2)*np.exp(-kappa*(R[i]-r1-r2))\n",
    "    \n",
    "    Ve= np.exp(-kappa*(R[i]-r1-r2))\n",
    "    Va =-A/6*(2*r1*r2/(R[i]**2-(r1+r2)**2)+2*r1*r2/(R[i]**2*(r1-r2)**2)+(R[i]**2-(r1 + r2)**2)/(R[i]**2-(r1-r2)**2))\n",
    "    VE.append(Ve)\n",
    "    #VA.append(Va)\n",
    "R=R*10**9\n",
    "plt.plot(R, VE, 'b')\n",
    "#plt.plot(R, VA, 'c')\n",
    "#plt.ylim(-200,200)\n",
    "print(VE)"
   ]
  }
 ],
 "metadata": {
  "kernelspec": {
   "display_name": "Python 3",
   "language": "python",
   "name": "python3"
  },
  "language_info": {
   "codemirror_mode": {
    "name": "ipython",
    "version": 3
   },
   "file_extension": ".py",
   "mimetype": "text/x-python",
   "name": "python",
   "nbconvert_exporter": "python",
   "pygments_lexer": "ipython3",
   "version": "3.6.5"
  }
 },
 "nbformat": 4,
 "nbformat_minor": 2
}
